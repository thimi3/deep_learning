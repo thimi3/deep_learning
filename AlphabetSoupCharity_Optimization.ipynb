{
 "cells": [
  {
   "cell_type": "markdown",
   "metadata": {},
   "source": [
    "# Step 3: Optimize the Model"
   ]
  },
  {
   "cell_type": "markdown",
   "metadata": {},
   "source": [
    "## Using your knowledge of TensorFlow, optimize your model in order to achieve a target predictive accuracy higher than 75%. If you can't achieve an accuracy higher than 75%, you'll need to make at least three attempts to do so."
   ]
  },
  {
   "cell_type": "markdown",
   "metadata": {},
   "source": []
  },
  {
   "cell_type": "code",
   "execution_count": 1,
   "metadata": {},
   "outputs": [],
   "source": [
    "# Import our dependencies\n",
    "from sklearn.model_selection import train_test_split\n",
    "from sklearn.preprocessing import StandardScaler, OneHotEncoder\n",
    "import pandas as pd\n",
    "import tensorflow as tf\n",
    "import pandas as pd \n",
    "\n"
   ]
  },
  {
   "cell_type": "code",
   "execution_count": 2,
   "metadata": {},
   "outputs": [
    {
     "data": {
      "text/html": [
       "<div>\n",
       "<style scoped>\n",
       "    .dataframe tbody tr th:only-of-type {\n",
       "        vertical-align: middle;\n",
       "    }\n",
       "\n",
       "    .dataframe tbody tr th {\n",
       "        vertical-align: top;\n",
       "    }\n",
       "\n",
       "    .dataframe thead th {\n",
       "        text-align: right;\n",
       "    }\n",
       "</style>\n",
       "<table border=\"1\" class=\"dataframe\">\n",
       "  <thead>\n",
       "    <tr style=\"text-align: right;\">\n",
       "      <th></th>\n",
       "      <th>EIN</th>\n",
       "      <th>NAME</th>\n",
       "      <th>APPLICATION_TYPE</th>\n",
       "      <th>AFFILIATION</th>\n",
       "      <th>CLASSIFICATION</th>\n",
       "      <th>USE_CASE</th>\n",
       "      <th>ORGANIZATION</th>\n",
       "      <th>STATUS</th>\n",
       "      <th>INCOME_AMT</th>\n",
       "      <th>SPECIAL_CONSIDERATIONS</th>\n",
       "      <th>ASK_AMT</th>\n",
       "      <th>IS_SUCCESSFUL</th>\n",
       "    </tr>\n",
       "  </thead>\n",
       "  <tbody>\n",
       "    <tr>\n",
       "      <th>0</th>\n",
       "      <td>10520599</td>\n",
       "      <td>BLUE KNIGHTS MOTORCYCLE CLUB</td>\n",
       "      <td>T10</td>\n",
       "      <td>Independent</td>\n",
       "      <td>C1000</td>\n",
       "      <td>ProductDev</td>\n",
       "      <td>Association</td>\n",
       "      <td>1</td>\n",
       "      <td>0</td>\n",
       "      <td>N</td>\n",
       "      <td>5000</td>\n",
       "      <td>1</td>\n",
       "    </tr>\n",
       "    <tr>\n",
       "      <th>1</th>\n",
       "      <td>10531628</td>\n",
       "      <td>AMERICAN CHESAPEAKE CLUB CHARITABLE TR</td>\n",
       "      <td>T3</td>\n",
       "      <td>Independent</td>\n",
       "      <td>C2000</td>\n",
       "      <td>Preservation</td>\n",
       "      <td>Co-operative</td>\n",
       "      <td>1</td>\n",
       "      <td>1-9999</td>\n",
       "      <td>N</td>\n",
       "      <td>108590</td>\n",
       "      <td>1</td>\n",
       "    </tr>\n",
       "    <tr>\n",
       "      <th>2</th>\n",
       "      <td>10547893</td>\n",
       "      <td>ST CLOUD PROFESSIONAL FIREFIGHTERS</td>\n",
       "      <td>T5</td>\n",
       "      <td>CompanySponsored</td>\n",
       "      <td>C3000</td>\n",
       "      <td>ProductDev</td>\n",
       "      <td>Association</td>\n",
       "      <td>1</td>\n",
       "      <td>0</td>\n",
       "      <td>N</td>\n",
       "      <td>5000</td>\n",
       "      <td>0</td>\n",
       "    </tr>\n",
       "    <tr>\n",
       "      <th>3</th>\n",
       "      <td>10553066</td>\n",
       "      <td>SOUTHSIDE ATHLETIC ASSOCIATION</td>\n",
       "      <td>T3</td>\n",
       "      <td>CompanySponsored</td>\n",
       "      <td>C2000</td>\n",
       "      <td>Preservation</td>\n",
       "      <td>Trust</td>\n",
       "      <td>1</td>\n",
       "      <td>10000-24999</td>\n",
       "      <td>N</td>\n",
       "      <td>6692</td>\n",
       "      <td>1</td>\n",
       "    </tr>\n",
       "    <tr>\n",
       "      <th>4</th>\n",
       "      <td>10556103</td>\n",
       "      <td>GENETIC RESEARCH INSTITUTE OF THE DESERT</td>\n",
       "      <td>T3</td>\n",
       "      <td>Independent</td>\n",
       "      <td>C1000</td>\n",
       "      <td>Heathcare</td>\n",
       "      <td>Trust</td>\n",
       "      <td>1</td>\n",
       "      <td>100000-499999</td>\n",
       "      <td>N</td>\n",
       "      <td>142590</td>\n",
       "      <td>1</td>\n",
       "    </tr>\n",
       "  </tbody>\n",
       "</table>\n",
       "</div>"
      ],
      "text/plain": [
       "        EIN                                      NAME APPLICATION_TYPE  \\\n",
       "0  10520599              BLUE KNIGHTS MOTORCYCLE CLUB              T10   \n",
       "1  10531628    AMERICAN CHESAPEAKE CLUB CHARITABLE TR               T3   \n",
       "2  10547893        ST CLOUD PROFESSIONAL FIREFIGHTERS               T5   \n",
       "3  10553066            SOUTHSIDE ATHLETIC ASSOCIATION               T3   \n",
       "4  10556103  GENETIC RESEARCH INSTITUTE OF THE DESERT               T3   \n",
       "\n",
       "        AFFILIATION CLASSIFICATION      USE_CASE  ORGANIZATION  STATUS  \\\n",
       "0       Independent          C1000    ProductDev   Association       1   \n",
       "1       Independent          C2000  Preservation  Co-operative       1   \n",
       "2  CompanySponsored          C3000    ProductDev   Association       1   \n",
       "3  CompanySponsored          C2000  Preservation         Trust       1   \n",
       "4       Independent          C1000     Heathcare         Trust       1   \n",
       "\n",
       "      INCOME_AMT SPECIAL_CONSIDERATIONS  ASK_AMT  IS_SUCCESSFUL  \n",
       "0              0                      N     5000              1  \n",
       "1         1-9999                      N   108590              1  \n",
       "2              0                      N     5000              0  \n",
       "3    10000-24999                      N     6692              1  \n",
       "4  100000-499999                      N   142590              1  "
      ]
     },
     "execution_count": 2,
     "metadata": {},
     "output_type": "execute_result"
    }
   ],
   "source": [
    "#  Import and read the charity_data.csv.\n",
    "\n",
    "n_df = pd.read_csv(\"Resources/charity_data.csv\")\n",
    "n_df.head()\n"
   ]
  },
  {
   "cell_type": "code",
   "execution_count": 3,
   "metadata": {},
   "outputs": [
    {
     "data": {
      "text/html": [
       "<div>\n",
       "<style scoped>\n",
       "    .dataframe tbody tr th:only-of-type {\n",
       "        vertical-align: middle;\n",
       "    }\n",
       "\n",
       "    .dataframe tbody tr th {\n",
       "        vertical-align: top;\n",
       "    }\n",
       "\n",
       "    .dataframe thead th {\n",
       "        text-align: right;\n",
       "    }\n",
       "</style>\n",
       "<table border=\"1\" class=\"dataframe\">\n",
       "  <thead>\n",
       "    <tr style=\"text-align: right;\">\n",
       "      <th></th>\n",
       "      <th>APPLICATION_TYPE</th>\n",
       "      <th>AFFILIATION</th>\n",
       "      <th>CLASSIFICATION</th>\n",
       "      <th>USE_CASE</th>\n",
       "      <th>ORGANIZATION</th>\n",
       "      <th>STATUS</th>\n",
       "      <th>INCOME_AMT</th>\n",
       "      <th>SPECIAL_CONSIDERATIONS</th>\n",
       "      <th>ASK_AMT</th>\n",
       "      <th>IS_SUCCESSFUL</th>\n",
       "    </tr>\n",
       "  </thead>\n",
       "  <tbody>\n",
       "    <tr>\n",
       "      <th>0</th>\n",
       "      <td>T10</td>\n",
       "      <td>Independent</td>\n",
       "      <td>C1000</td>\n",
       "      <td>ProductDev</td>\n",
       "      <td>Association</td>\n",
       "      <td>1</td>\n",
       "      <td>0</td>\n",
       "      <td>N</td>\n",
       "      <td>5000</td>\n",
       "      <td>1</td>\n",
       "    </tr>\n",
       "    <tr>\n",
       "      <th>1</th>\n",
       "      <td>T3</td>\n",
       "      <td>Independent</td>\n",
       "      <td>C2000</td>\n",
       "      <td>Preservation</td>\n",
       "      <td>Co-operative</td>\n",
       "      <td>1</td>\n",
       "      <td>1-9999</td>\n",
       "      <td>N</td>\n",
       "      <td>108590</td>\n",
       "      <td>1</td>\n",
       "    </tr>\n",
       "    <tr>\n",
       "      <th>2</th>\n",
       "      <td>T5</td>\n",
       "      <td>CompanySponsored</td>\n",
       "      <td>C3000</td>\n",
       "      <td>ProductDev</td>\n",
       "      <td>Association</td>\n",
       "      <td>1</td>\n",
       "      <td>0</td>\n",
       "      <td>N</td>\n",
       "      <td>5000</td>\n",
       "      <td>0</td>\n",
       "    </tr>\n",
       "    <tr>\n",
       "      <th>3</th>\n",
       "      <td>T3</td>\n",
       "      <td>CompanySponsored</td>\n",
       "      <td>C2000</td>\n",
       "      <td>Preservation</td>\n",
       "      <td>Trust</td>\n",
       "      <td>1</td>\n",
       "      <td>10000-24999</td>\n",
       "      <td>N</td>\n",
       "      <td>6692</td>\n",
       "      <td>1</td>\n",
       "    </tr>\n",
       "    <tr>\n",
       "      <th>4</th>\n",
       "      <td>T3</td>\n",
       "      <td>Independent</td>\n",
       "      <td>C1000</td>\n",
       "      <td>Heathcare</td>\n",
       "      <td>Trust</td>\n",
       "      <td>1</td>\n",
       "      <td>100000-499999</td>\n",
       "      <td>N</td>\n",
       "      <td>142590</td>\n",
       "      <td>1</td>\n",
       "    </tr>\n",
       "  </tbody>\n",
       "</table>\n",
       "</div>"
      ],
      "text/plain": [
       "  APPLICATION_TYPE       AFFILIATION CLASSIFICATION      USE_CASE  \\\n",
       "0              T10       Independent          C1000    ProductDev   \n",
       "1               T3       Independent          C2000  Preservation   \n",
       "2               T5  CompanySponsored          C3000    ProductDev   \n",
       "3               T3  CompanySponsored          C2000  Preservation   \n",
       "4               T3       Independent          C1000     Heathcare   \n",
       "\n",
       "   ORGANIZATION  STATUS     INCOME_AMT SPECIAL_CONSIDERATIONS  ASK_AMT  \\\n",
       "0   Association       1              0                      N     5000   \n",
       "1  Co-operative       1         1-9999                      N   108590   \n",
       "2   Association       1              0                      N     5000   \n",
       "3         Trust       1    10000-24999                      N     6692   \n",
       "4         Trust       1  100000-499999                      N   142590   \n",
       "\n",
       "   IS_SUCCESSFUL  \n",
       "0              1  \n",
       "1              1  \n",
       "2              0  \n",
       "3              1  \n",
       "4              1  "
      ]
     },
     "execution_count": 3,
     "metadata": {},
     "output_type": "execute_result"
    }
   ],
   "source": [
    "# Drop the non-beneficial ID columns, 'EIN' and 'NAME'.\n",
    "n_df = n_df.drop(labels=[\"EIN\", \"NAME\"], axis=1)\n",
    "n_df.head()"
   ]
  },
  {
   "cell_type": "code",
   "execution_count": 4,
   "metadata": {},
   "outputs": [],
   "source": [
    "\n",
    "n_counts = n_df[\"APPLICATION_TYPE\"].value_counts()\n",
    "\n",
    "\n",
    "replace_application = list(n_counts[n_counts < 500].index)\n",
    "\n",
    "\n",
    "for app in replace_application:\n",
    "    n_df[\"APPLICATION_TYPE\"] = n_df[\"APPLICATION_TYPE\"].replace(app, \"Other\")\n",
    "\n",
    "\n",
    "classification_counts = n_df[\"CLASSIFICATION\"].value_counts()\n",
    "\n",
    "\n",
    "replace_class = list(classification_counts[classification_counts < 1800].index)\n",
    "\n",
    "\n",
    "for cls in replace_class:\n",
    "    n_df[\"CLASSIFICATION\"] = n_df[\"CLASSIFICATION\"].replace(cls, \"Other\")\n",
    "\n",
    "\n",
    "application_cat = list(n_df.dtypes[n_df.dtypes == \"object\"].index)\n",
    "\n",
    "\n",
    "enc = OneHotEncoder(sparse=False)\n",
    "\n",
    "\n",
    "encode_df = pd.DataFrame(enc.fit_transform(n_df[application_cat]))\n",
    "\n",
    "\n",
    "encode_df.columns = enc.get_feature_names(application_cat)\n",
    "\n",
    "\n",
    "n_df = n_df.merge(encode_df, left_index=True, right_index=True)\n",
    "n_df = n_df.drop(labels=application_cat, axis=1)"
   ]
  },
  {
   "cell_type": "code",
   "execution_count": 5,
   "metadata": {},
   "outputs": [],
   "source": [
    "\n",
    "y = n_df[\"IS_SUCCESSFUL\"].values.reshape(-1, 1)\n",
    "X = n_df.drop(\"IS_SUCCESSFUL\", axis=1).values\n",
    "\n",
    "\n",
    "X_train, X_test, y_train, y_test = train_test_split(X, y)\n",
    "\n",
    "\n",
    "scaler = StandardScaler()\n",
    "\n",
    "\n",
    "X_scaler = scaler.fit(X_train)\n",
    "\n",
    "\n",
    "X_train_scaled = X_scaler.transform(X_train)\n",
    "X_test_scaled = X_scaler.transform(X_test)"
   ]
  },
  {
   "cell_type": "code",
   "execution_count": 6,
   "metadata": {},
   "outputs": [
    {
     "name": "stdout",
     "output_type": "stream",
     "text": [
      "Model: \"sequential\"\n",
      "_________________________________________________________________\n",
      " Layer (type)                Output Shape              Param #   \n",
      "=================================================================\n",
      " dense (Dense)               (None, 90)                3960      \n",
      "                                                                 \n",
      " dense_1 (Dense)             (None, 50)                4550      \n",
      "                                                                 \n",
      " dense_2 (Dense)             (None, 1)                 51        \n",
      "                                                                 \n",
      "=================================================================\n",
      "Total params: 8,561\n",
      "Trainable params: 8,561\n",
      "Non-trainable params: 0\n",
      "_________________________________________________________________\n"
     ]
    }
   ],
   "source": [
    "\n",
    "number_input_features = len(X_train_scaled[0])\n",
    "\n",
    "hidden_nodes_layer1 = 90\n",
    "\n",
    "hidden_nodes_layer2 = 50\n",
    "\n",
    "hidden_nodes_layer3 = 30\n",
    "\n",
    "nn_inc_epochs = tf.keras.models.Sequential()\n",
    "\n",
    "# First hidden layer\n",
    "nn_inc_epochs.add(tf.keras.layers.Dense(units=hidden_nodes_layer1, input_dim=number_input_features, activation=\"relu\"))\n",
    "\n",
    "# Second hidden layer\n",
    "nn_inc_epochs.add(tf.keras.layers.Dense(units=hidden_nodes_layer2, activation=\"relu\"))\n",
    "\n",
    "# Output layer\n",
    "nn_inc_epochs.add(tf.keras.layers.Dense(units=1, activation=\"sigmoid\"))\n",
    "\n",
    "# Check the structure of the model\n",
    "nn_inc_epochs.summary()"
   ]
  },
  {
   "cell_type": "code",
   "execution_count": 7,
   "metadata": {},
   "outputs": [],
   "source": [
    "# Compile the model before training it\n",
    "nn_inc_epochs.compile(loss=\"binary_crossentropy\", optimizer=\"adam\", metrics=[\"accuracy\"])"
   ]
  },
  {
   "cell_type": "code",
   "execution_count": null,
   "metadata": {},
   "outputs": [
    {
     "name": "stdout",
     "output_type": "stream",
     "text": [
      "Epoch 1/200\n",
      "804/804 [==============================] - 2s 1ms/step - loss: 0.5710 - accuracy: 0.7203\n",
      "Epoch 2/200\n",
      "804/804 [==============================] - 1s 1ms/step - loss: 0.5585 - accuracy: 0.7273\n",
      "Epoch 3/200\n",
      "804/804 [==============================] - 1s 1ms/step - loss: 0.5555 - accuracy: 0.7284\n",
      "Epoch 4/200\n",
      "804/804 [==============================] - 1s 1ms/step - loss: 0.5538 - accuracy: 0.7280\n",
      "Epoch 5/200\n",
      "804/804 [==============================] - 1s 1ms/step - loss: 0.5524 - accuracy: 0.7296\n",
      "Epoch 6/200\n",
      "804/804 [==============================] - 1s 1ms/step - loss: 0.5512 - accuracy: 0.7291\n",
      "Epoch 7/200\n",
      "804/804 [==============================] - 1s 1ms/step - loss: 0.5502 - accuracy: 0.7315\n",
      "Epoch 8/200\n",
      "804/804 [==============================] - 1s 2ms/step - loss: 0.5493 - accuracy: 0.7302\n",
      "Epoch 9/200\n",
      "804/804 [==============================] - 1s 1ms/step - loss: 0.5487 - accuracy: 0.7312\n",
      "Epoch 10/200\n",
      "804/804 [==============================] - 1s 1ms/step - loss: 0.5481 - accuracy: 0.7306\n",
      "Epoch 11/200\n",
      "804/804 [==============================] - 1s 1ms/step - loss: 0.5482 - accuracy: 0.7315\n",
      "Epoch 12/200\n",
      "804/804 [==============================] - 1s 1ms/step - loss: 0.5476 - accuracy: 0.7320\n",
      "Epoch 13/200\n",
      "804/804 [==============================] - 1s 1ms/step - loss: 0.5472 - accuracy: 0.7323\n",
      "Epoch 14/200\n",
      "804/804 [==============================] - 1s 1ms/step - loss: 0.5468 - accuracy: 0.7320\n",
      "Epoch 15/200\n",
      "804/804 [==============================] - 1s 1ms/step - loss: 0.5466 - accuracy: 0.7316\n",
      "Epoch 16/200\n",
      "804/804 [==============================] - 1s 1ms/step - loss: 0.5461 - accuracy: 0.7324\n",
      "Epoch 17/200\n",
      "804/804 [==============================] - 1s 1ms/step - loss: 0.5458 - accuracy: 0.7336\n",
      "Epoch 18/200\n",
      "804/804 [==============================] - 1s 1ms/step - loss: 0.5451 - accuracy: 0.7336\n",
      "Epoch 19/200\n",
      "804/804 [==============================] - 1s 1ms/step - loss: 0.5450 - accuracy: 0.7333\n",
      "Epoch 20/200\n",
      "804/804 [==============================] - 1s 1ms/step - loss: 0.5450 - accuracy: 0.7345\n",
      "Epoch 21/200\n",
      "804/804 [==============================] - 1s 1ms/step - loss: 0.5449 - accuracy: 0.7328\n",
      "Epoch 22/200\n",
      "804/804 [==============================] - 1s 1ms/step - loss: 0.5446 - accuracy: 0.7342\n",
      "Epoch 23/200\n",
      "804/804 [==============================] - 1s 1ms/step - loss: 0.5445 - accuracy: 0.7342\n",
      "Epoch 24/200\n",
      "804/804 [==============================] - 1s 1ms/step - loss: 0.5440 - accuracy: 0.7342\n",
      "Epoch 25/200\n",
      "804/804 [==============================] - 1s 1ms/step - loss: 0.5436 - accuracy: 0.7341\n",
      "Epoch 26/200\n",
      "804/804 [==============================] - 1s 1ms/step - loss: 0.5437 - accuracy: 0.7345\n",
      "Epoch 27/200\n",
      "804/804 [==============================] - 1s 1ms/step - loss: 0.5434 - accuracy: 0.7351\n",
      "Epoch 28/200\n",
      "804/804 [==============================] - 1s 1ms/step - loss: 0.5430 - accuracy: 0.7360\n",
      "Epoch 29/200\n",
      "804/804 [==============================] - 1s 1ms/step - loss: 0.5429 - accuracy: 0.7347\n",
      "Epoch 30/200\n",
      "804/804 [==============================] - 1s 2ms/step - loss: 0.5430 - accuracy: 0.7361\n",
      "Epoch 31/200\n",
      "804/804 [==============================] - 1s 2ms/step - loss: 0.5425 - accuracy: 0.7359\n",
      "Epoch 32/200\n",
      "804/804 [==============================] - 1s 2ms/step - loss: 0.5428 - accuracy: 0.7355\n",
      "Epoch 33/200\n",
      "804/804 [==============================] - 1s 1ms/step - loss: 0.5426 - accuracy: 0.7362\n",
      "Epoch 34/200\n",
      "804/804 [==============================] - 1s 1ms/step - loss: 0.5422 - accuracy: 0.7365\n",
      "Epoch 35/200\n",
      "804/804 [==============================] - 1s 1ms/step - loss: 0.5424 - accuracy: 0.7365\n",
      "Epoch 36/200\n",
      "804/804 [==============================] - 1s 1ms/step - loss: 0.5420 - accuracy: 0.7354\n",
      "Epoch 37/200\n",
      "804/804 [==============================] - 1s 1ms/step - loss: 0.5420 - accuracy: 0.7356\n",
      "Epoch 38/200\n",
      "804/804 [==============================] - 1s 1ms/step - loss: 0.5417 - accuracy: 0.7365\n",
      "Epoch 39/200\n",
      "804/804 [==============================] - 1s 1ms/step - loss: 0.5414 - accuracy: 0.7361\n",
      "Epoch 40/200\n",
      "804/804 [==============================] - 1s 1ms/step - loss: 0.5413 - accuracy: 0.7351\n",
      "Epoch 41/200\n",
      "804/804 [==============================] - 1s 1ms/step - loss: 0.5413 - accuracy: 0.7361\n",
      "Epoch 42/200\n",
      "804/804 [==============================] - 1s 1ms/step - loss: 0.5411 - accuracy: 0.7351\n",
      "Epoch 43/200\n",
      "804/804 [==============================] - 1s 1ms/step - loss: 0.5406 - accuracy: 0.7362\n",
      "Epoch 44/200\n",
      "804/804 [==============================] - 1s 2ms/step - loss: 0.5409 - accuracy: 0.7369\n",
      "Epoch 45/200\n",
      "804/804 [==============================] - 1s 1ms/step - loss: 0.5407 - accuracy: 0.7363\n",
      "Epoch 46/200\n",
      "804/804 [==============================] - 1s 2ms/step - loss: 0.5406 - accuracy: 0.7364\n",
      "Epoch 47/200\n",
      "804/804 [==============================] - 1s 1ms/step - loss: 0.5409 - accuracy: 0.7359\n",
      "Epoch 48/200\n",
      "804/804 [==============================] - 1s 1ms/step - loss: 0.5408 - accuracy: 0.7360\n",
      "Epoch 49/200\n",
      "804/804 [==============================] - 1s 1ms/step - loss: 0.5404 - accuracy: 0.7364\n",
      "Epoch 50/200\n",
      "804/804 [==============================] - 1s 2ms/step - loss: 0.5404 - accuracy: 0.7370\n",
      "Epoch 51/200\n",
      "804/804 [==============================] - 1s 1ms/step - loss: 0.5402 - accuracy: 0.7354\n",
      "Epoch 52/200\n",
      "804/804 [==============================] - 1s 1ms/step - loss: 0.5401 - accuracy: 0.7375\n",
      "Epoch 53/200\n",
      "804/804 [==============================] - 1s 1ms/step - loss: 0.5401 - accuracy: 0.7361\n",
      "Epoch 54/200\n",
      "804/804 [==============================] - 1s 1ms/step - loss: 0.5400 - accuracy: 0.7367\n",
      "Epoch 55/200\n",
      "804/804 [==============================] - 1s 1ms/step - loss: 0.5401 - accuracy: 0.7372\n",
      "Epoch 56/200\n",
      "804/804 [==============================] - 1s 2ms/step - loss: 0.5402 - accuracy: 0.7355\n",
      "Epoch 57/200\n",
      "804/804 [==============================] - 1s 1ms/step - loss: 0.5396 - accuracy: 0.7364\n",
      "Epoch 58/200\n",
      "804/804 [==============================] - 1s 1ms/step - loss: 0.5398 - accuracy: 0.7374\n",
      "Epoch 59/200\n",
      "804/804 [==============================] - 1s 2ms/step - loss: 0.5399 - accuracy: 0.7378\n",
      "Epoch 60/200\n",
      "804/804 [==============================] - 1s 2ms/step - loss: 0.5398 - accuracy: 0.7358\n",
      "Epoch 61/200\n",
      "804/804 [==============================] - 1s 2ms/step - loss: 0.5391 - accuracy: 0.7369\n",
      "Epoch 62/200\n",
      "804/804 [==============================] - 1s 2ms/step - loss: 0.5392 - accuracy: 0.7364\n",
      "Epoch 63/200\n",
      "804/804 [==============================] - 2s 2ms/step - loss: 0.5391 - accuracy: 0.7373\n",
      "Epoch 64/200\n",
      "804/804 [==============================] - 1s 2ms/step - loss: 0.5396 - accuracy: 0.7380\n",
      "Epoch 65/200\n",
      "804/804 [==============================] - 2s 2ms/step - loss: 0.5392 - accuracy: 0.7378\n",
      "Epoch 66/200\n",
      "804/804 [==============================] - 2s 2ms/step - loss: 0.5389 - accuracy: 0.7364\n",
      "Epoch 67/200\n",
      "804/804 [==============================] - 2s 2ms/step - loss: 0.5394 - accuracy: 0.7372\n",
      "Epoch 68/200\n",
      "804/804 [==============================] - 1s 2ms/step - loss: 0.5389 - accuracy: 0.7377\n",
      "Epoch 69/200\n",
      "804/804 [==============================] - 1s 1ms/step - loss: 0.5392 - accuracy: 0.7360\n",
      "Epoch 70/200\n",
      "804/804 [==============================] - 1s 2ms/step - loss: 0.5386 - accuracy: 0.7371\n",
      "Epoch 71/200\n",
      "804/804 [==============================] - 2s 2ms/step - loss: 0.5387 - accuracy: 0.7375\n",
      "Epoch 72/200\n",
      "359/804 [============>.................] - ETA: 0s - loss: 0.5394 - accuracy: 0.7401"
     ]
    }
   ],
   "source": [
    "# Increasing number of epochs\n",
    "fit_model_inc_epochs = nn_inc_epochs.fit(X_train_scaled, y_train, epochs=200)"
   ]
  },
  {
   "cell_type": "code",
   "execution_count": null,
   "metadata": {},
   "outputs": [],
   "source": [
    "# Evaluate the model using the test data\n",
    "model_loss, model_accuracy = nn_inc_epochs.evaluate(X_test_scaled, y_test, verbose=2)\n",
    "print(f\"Loss: {model_loss}, Accuracy: {model_accuracy}\")"
   ]
  },
  {
   "cell_type": "markdown",
   "metadata": {},
   "source": [
    "### Changing activation function from `relu` to `tanh`"
   ]
  },
  {
   "cell_type": "code",
   "execution_count": null,
   "metadata": {},
   "outputs": [],
   "source": [
    "\n",
    "nn_tanh = tf.keras.models.Sequential()\n",
    "\n",
    "nn_tanh.add(tf.keras.layers.Dense(units=hidden_nodes_layer1, input_dim=number_input_features, activation=\"tanh\"))\n",
    "\n",
    "\n",
    "nn_tanh.add(tf.keras.layers.Dense(units=hidden_nodes_layer2, activation=\"tanh\"))\n",
    "\n",
    "\n",
    "nn_tanh.add(tf.keras.layers.Dense(units=1, activation=\"sigmoid\"))\n",
    "\n",
    "\n",
    "nn_tanh.summary()"
   ]
  },
  {
   "cell_type": "code",
   "execution_count": null,
   "metadata": {},
   "outputs": [],
   "source": [
    "# Compile the model\n",
    "nn_tanh.compile(loss=\"binary_crossentropy\", optimizer=\"adam\", metrics=[\"accuracy\"])"
   ]
  },
  {
   "cell_type": "code",
   "execution_count": null,
   "metadata": {},
   "outputs": [],
   "source": [
    "fit_model_tanh = nn_tanh.fit(X_train_scaled, y_train, epochs=100)"
   ]
  },
  {
   "cell_type": "code",
   "execution_count": null,
   "metadata": {},
   "outputs": [],
   "source": [
    "# Evaluate the model using the test data\n",
    "model_loss, model_accuracy = nn_tanh.evaluate(X_test_scaled, y_test, verbose=2)\n",
    "print(f\"Loss: {model_loss}, Accuracy: {model_accuracy}\")"
   ]
  },
  {
   "cell_type": "markdown",
   "metadata": {},
   "source": [
    "### Design a neural network model, taking into account any modifications that will optimize the model to achieve higher than 75% accuracy."
   ]
  },
  {
   "cell_type": "code",
   "execution_count": null,
   "metadata": {},
   "outputs": [],
   "source": [
    "#reading the file for processing\n",
    "n_df = pd.read_csv(\"Resources/charity_data.csv\")"
   ]
  },
  {
   "cell_type": "code",
   "execution_count": null,
   "metadata": {},
   "outputs": [],
   "source": [
    "# Drop non-essential columns\n",
    "n_df = n_df.drop(labels=[\"EIN\", \"NAME\"], axis=1)\n",
    "\n",
    "# Bucket \"APPLICATION_TYPE\"\n",
    "replace_application = list(n_counts[n_counts < 500].index)\n",
    "\n",
    "# Replace in dataframe\n",
    "for app in replace_application:\n",
    "    n_df[\"APPLICATION_TYPE\"] = n_df[\"APPLICATION_TYPE\"].replace(app, \"Other\")\n",
    "\n",
    "# Bucket \"CLASSIFICATION\"\n",
    "replace_class = list(classification_counts[classification_counts < 1800].index)\n",
    "\n",
    "# Replace in dataframe\n",
    "for cls in replace_class:\n",
    "    n_df[\"CLASSIFICATION\"] = n_df[\"CLASSIFICATION\"].replace(cls, \"Other\")"
   ]
  },
  {
   "cell_type": "code",
   "execution_count": null,
   "metadata": {},
   "outputs": [],
   "source": [
    "# Look at INCOME_AMT value counts for bucketing\n",
    "income_counts = n_df[\"INCOME_AMT\"].value_counts()\n",
    "income_counts"
   ]
  },
  {
   "cell_type": "code",
   "execution_count": null,
   "metadata": {},
   "outputs": [],
   "source": [
    "# Determine which values to replace if counts are less than 3000\n",
    "replace_income = list(income_counts[income_counts < 3000].index)\n",
    "\n",
    "# Replace in dataframe\n",
    "for income in replace_income:\n",
    "    n_df[\"INCOME_AMT\"] = n_df[\"INCOME_AMT\"].replace(income, \"Other\")\n",
    "    \n",
    "# Check to make sure bucketing was successful\n",
    "n_df[\"INCOME_AMT\"].value_counts()"
   ]
  },
  {
   "cell_type": "code",
   "execution_count": null,
   "metadata": {},
   "outputs": [],
   "source": [
    "# Look at AFFILIATION value counts for bucketing\n",
    "aff_counts = n_df[\"AFFILIATION\"].value_counts()\n",
    "aff_counts"
   ]
  },
  {
   "cell_type": "code",
   "execution_count": null,
   "metadata": {},
   "outputs": [],
   "source": [
    "# Determine which values to replace if counts are less than 15000\n",
    "replace_aff = list(aff_counts[aff_counts < 15000].index)\n",
    "\n",
    "# Replace in dataframe\n",
    "for aff in replace_aff:\n",
    "    n_df[\"AFFILIATION\"] = n_df[\"AFFILIATION\"].replace(aff, \"Other\")\n",
    "    \n",
    "# Check to make sure bucketing was successful\n",
    "n_df[\"AFFILIATION\"].value_counts()"
   ]
  },
  {
   "cell_type": "code",
   "execution_count": null,
   "metadata": {},
   "outputs": [],
   "source": [
    "# Create a OneHotEncoder instance\n",
    "enc = OneHotEncoder(sparse=False)\n",
    "\n",
    "# Fit and transform the OneHotEncoder using the categorical variable list\n",
    "encode_df = pd.DataFrame(enc.fit_transform(n_df[application_cat]))\n",
    "\n",
    "# Add the encoded variable names to the dataframe\n",
    "encode_df.columns = enc.get_feature_names(application_cat)"
   ]
  },
  {
   "cell_type": "code",
   "execution_count": null,
   "metadata": {},
   "outputs": [],
   "source": [
    "# Merge one-hot encoded features and drop the originals\n",
    "application_df = application_df.merge(encode_df, left_index=True, right_index=True)\n",
    "application_df = application_df.drop(labels=application_cat, axis=1)"
   ]
  },
  {
   "cell_type": "code",
   "execution_count": null,
   "metadata": {},
   "outputs": [],
   "source": [
    "# Drop \"SPECIAL_CONSIDERATION_N\":\n",
    "application_df = application_df.drop(\"SPECIAL_CONSIDERATIONS_N\", axis=1)\n",
    "application_df.head()"
   ]
  },
  {
   "cell_type": "code",
   "execution_count": null,
   "metadata": {},
   "outputs": [],
   "source": [
    "# Split our preprocessed data into our features and target arrays\n",
    "y = application_df[\"IS_SUCCESSFUL\"].values.reshape(-1, 1)\n",
    "X = application_df.drop(\"IS_SUCCESSFUL\", axis=1).values\n",
    "\n",
    "# Split the preprocessed data into a training and testing dataset\n",
    "X_train, X_test, y_train, y_test = train_test_split(X, y)"
   ]
  },
  {
   "cell_type": "code",
   "execution_count": null,
   "metadata": {},
   "outputs": [],
   "source": [
    "# Create a StandardScaler instances\n",
    "scaler = StandardScaler()\n",
    "\n",
    "# Fit the StandardScaler\n",
    "X_scaler = scaler.fit(X_train)\n",
    "\n",
    "# Scale the data\n",
    "X_train_scaled = X_scaler.transform(X_train)\n",
    "X_test_scaled = X_scaler.transform(X_test)"
   ]
  },
  {
   "cell_type": "code",
   "execution_count": null,
   "metadata": {},
   "outputs": [],
   "source": [
    "# Define the model - deep neural net, i.e., the number of input features and hidden nodes for each layer.\n",
    "number_input_features = len(X_train_scaled[0])\n",
    "hidden_nodes_layer1 = 80\n",
    "hidden_nodes_layer2 = 30\n",
    "\n",
    "nn_reduced_input = tf.keras.models.Sequential()\n",
    "\n",
    "# First hidden layer\n",
    "nn_reduced_input.add(tf.keras.layers.Dense(units=hidden_nodes_layer1, input_dim=number_input_features, activation=\"relu\"))\n",
    "\n",
    "# Second hidden layer\n",
    "nn_reduced_input.add(tf.keras.layers.Dense(units=hidden_nodes_layer2, activation=\"relu\"))\n",
    "\n",
    "# Output layer\n",
    "nn_reduced_input.add(tf.keras.layers.Dense(units=1, activation=\"sigmoid\"))\n",
    "\n",
    "# Check the structure of the model\n",
    "nn_reduced_input.summary()"
   ]
  },
  {
   "cell_type": "code",
   "execution_count": null,
   "metadata": {},
   "outputs": [],
   "source": [
    "# Compile the model\n",
    "nn_reduced_input.compile(loss=\"binary_crossentropy\", optimizer=\"adam\", metrics=[\"accuracy\"])\n",
    "\n",
    "# Train the model\n",
    "fit_model_reduced_input = nn_reduced_input.fit(X_train_scaled, y_train, epochs=100)"
   ]
  },
  {
   "cell_type": "code",
   "execution_count": null,
   "metadata": {},
   "outputs": [],
   "source": [
    "# Evaluate the model using the test data\n",
    "model_loss, model_accuracy = nn_reduced_input.evaluate(X_test_scaled, y_test, verbose=2)\n",
    "print(f\"Loss: {model_loss}, Accuracy: {model_accuracy}\")"
   ]
  },
  {
   "cell_type": "code",
   "execution_count": null,
   "metadata": {},
   "outputs": [],
   "source": [
    "# Helper function to bin specified categorical columns with value counts less than min_count\n",
    "def bin_cat_col(df, column, min_count):\n",
    "    counts = df[column].value_counts()\n",
    "    to_replace = list(counts[counts < min_count].index)\n",
    "    for rep in to_replace:\n",
    "        df[col] = df[col].replace(rep, \"Other\")"
   ]
  },
  {
   "cell_type": "code",
   "execution_count": null,
   "metadata": {},
   "outputs": [],
   "source": [
    "# Helper function to print results\n",
    "def print_results(param_choice, input_vals, results):\n",
    "    print(param_choice)\n",
    "    for i in range(len(input_vals)):\n",
    "        print(input_vals[i])\n",
    "        print(\"Model Loss:\", results[i][0])\n",
    "        print(\"Model Accuracy:\", results[i][1])\n",
    "        print(\"\")"
   ]
  },
  {
   "cell_type": "markdown",
   "metadata": {},
   "source": [
    "### Vary Epochs"
   ]
  },
  {
   "cell_type": "code",
   "execution_count": null,
   "metadata": {},
   "outputs": [],
   "source": [
    "training_epochs = [50, 100, 200, 300, 500, 700, 1000]\n",
    "results = []\n",
    "for te in training_epochs:\n",
    "    result = build_train_test(epochs=te)\n",
    "    results.append(result)"
   ]
  },
  {
   "cell_type": "code",
   "execution_count": null,
   "metadata": {},
   "outputs": [],
   "source": [
    "print_results(\"Epochs\", training_epochs, results)"
   ]
  },
  {
   "cell_type": "markdown",
   "metadata": {},
   "source": [
    "#### Result: 100 Epochs yields highest accuracy (0.732) and second lowest loss (0.568)"
   ]
  },
  {
   "cell_type": "markdown",
   "metadata": {},
   "source": [
    "### Vary Architecture"
   ]
  },
  {
   "cell_type": "code",
   "execution_count": null,
   "metadata": {},
   "outputs": [],
   "source": [
    "import itertools\n",
    "architectures = []\n",
    "n_node_options = [10, 30, 50, 80]\n",
    "for l in range(1, len(n_node_options) + 1):\n",
    "    for subset in itertools.combinations(n_node_options, l):\n",
    "        subset_perms = list(itertools.permutations(subset))\n",
    "        for architecture in subset_perms:\n",
    "            architectures.append(architecture)"
   ]
  },
  {
   "cell_type": "code",
   "execution_count": null,
   "metadata": {},
   "outputs": [],
   "source": [
    "results = []\n",
    "for arch in architectures:\n",
    "    result = build_train_test(architecture=arch)\n",
    "    results.append(result)"
   ]
  },
  {
   "cell_type": "code",
   "execution_count": null,
   "metadata": {},
   "outputs": [],
   "source": [
    "# Add results to dataframe for easier sorting\n",
    "arch_loss = []\n",
    "arch_acc = []\n",
    "for result in results:\n",
    "    arch_loss.append(result[0])\n",
    "    arch_acc.append(result[1])\n",
    "\n",
    "arch_results_df = pd.DataFrame({\"architecture\": architectures, \"loss\": arch_loss, \"accuracy\": arch_acc})\n",
    "arch_results_df.head()"
   ]
  },
  {
   "cell_type": "code",
   "execution_count": null,
   "metadata": {},
   "outputs": [],
   "source": [
    "# Architectures with highest accuracy\n",
    "arch_results_df.sort_values(\"accuracy\", ascending=False).head()"
   ]
  },
  {
   "cell_type": "code",
   "execution_count": null,
   "metadata": {},
   "outputs": [],
   "source": [
    "# Architectures with lowest loss\n",
    "arch_results_df.sort_values(\"loss\").head(15)"
   ]
  },
  {
   "cell_type": "markdown",
   "metadata": {},
   "source": [
    "#### Result: Architecture (80, 50, 30) -> 3 hidden layers with 80, 50, 30 nodes yields highest accuracy (0.740) and 12th lowest loss (0.561)"
   ]
  },
  {
   "cell_type": "markdown",
   "metadata": {},
   "source": [
    "### Vary Activation Function"
   ]
  },
  {
   "cell_type": "code",
   "execution_count": null,
   "metadata": {},
   "outputs": [],
   "source": [
    "activation_funcs = [\"relu\", \"tanh\", \"selu\", \"elu\", \"exponential\"]\n",
    "results = []\n",
    "cnt = 0\n",
    "for func in activation_funcs:\n",
    "    print(\"Count:\", cnt)\n",
    "    result = build_train_test(activation=func)\n",
    "    results.append(result)\n",
    "    cnt += 1"
   ]
  },
  {
   "cell_type": "code",
   "execution_count": null,
   "metadata": {},
   "outputs": [],
   "source": [
    "print_results(\"Activation Functions\", activation_funcs, results)"
   ]
  },
  {
   "cell_type": "markdown",
   "metadata": {},
   "source": [
    "#### Result: Activation function `tanh` yields highest accuracy (0.734) and lowest loss (0.556)"
   ]
  },
  {
   "cell_type": "markdown",
   "metadata": {},
   "source": [
    "### Vary Categorical Column Binning"
   ]
  },
  {
   "cell_type": "code",
   "execution_count": null,
   "metadata": {},
   "outputs": [],
   "source": [
    "cat_bin_cutoffs = {\"APPLICATION_TYPE\": 500, \"CLASSIFICATION\": 1800, \"INCOME_AMT\": 3000, \"AFFILIATION\": 15000}\n",
    "model_args = [{}]  # extra empty dictionary for no binning\n",
    "for l in range(1, len(n_node_options) + 1):\n",
    "    for subset in itertools.combinations(cat_bin_cutoffs, l):\n",
    "        model_arg = {}\n",
    "        for col in subset:\n",
    "            model_arg[col] = cat_bin_cutoffs[col]\n",
    "            if model_arg not in model_args:\n",
    "                model_args.append(model_arg)\n",
    "model_args"
   ]
  },
  {
   "cell_type": "code",
   "execution_count": null,
   "metadata": {},
   "outputs": [],
   "source": [
    "results = []\n",
    "cnt = 0\n",
    "for cat_bin in model_args:\n",
    "    print(\"Count:\", cnt)\n",
    "    result = build_train_test(cat_cutoffs=cat_bin)\n",
    "    results.append(result)\n",
    "    cnt += 1"
   ]
  },
  {
   "cell_type": "code",
   "execution_count": null,
   "metadata": {},
   "outputs": [],
   "source": [
    "# Add results to dataframe for easier sorting\n",
    "cat_loss = []\n",
    "cat_acc = []\n",
    "for result in results:\n",
    "    cat_loss.append(result[0])\n",
    "    cat_acc.append(result[1])\n",
    "\n",
    "cat_results_df = pd.DataFrame({\"Categorical Features\": model_args, \"loss\": cat_loss, \"accuracy\": cat_acc})\n",
    "cat_results_df.head()"
   ]
  },
  {
   "cell_type": "code",
   "execution_count": null,
   "metadata": {},
   "outputs": [],
   "source": [
    "# Categorical binning with highest accuracy\n",
    "cat_results_df.sort_values(\"accuracy\", ascending=False).head()"
   ]
  },
  {
   "cell_type": "code",
   "execution_count": null,
   "metadata": {},
   "outputs": [],
   "source": [
    "# Architectures with lowest loss\n",
    "cat_results_df.sort_values(\"loss\").head()"
   ]
  },
  {
   "cell_type": "markdown",
   "metadata": {},
   "source": [
    "#### Result: Binning only \"CLASSIFICATION\" with less than 1800 occurences of a value yields third highest accuracy (0.737) and third lowest loss (0.560)"
   ]
  },
  {
   "cell_type": "markdown",
   "metadata": {},
   "source": [
    "### Vary Learning Rate Analysis"
   ]
  },
  {
   "cell_type": "code",
   "execution_count": null,
   "metadata": {},
   "outputs": [],
   "source": [
    "learning_rates_coarse = [0.0001, 0.001, 0.01, 0.1, 1]\n",
    "results = []\n",
    "cnt = 0\n",
    "for rate in learning_rates_coarse:\n",
    "    print(\"Count:\", cnt)\n",
    "    result = build_train_test(learning_rate=rate)\n",
    "    results.append(result)\n",
    "    cnt += 1"
   ]
  },
  {
   "cell_type": "code",
   "execution_count": null,
   "metadata": {},
   "outputs": [],
   "source": [
    "print_results(\"Learning Rates\", learning_rates_coarse, results)"
   ]
  },
  {
   "cell_type": "code",
   "execution_count": null,
   "metadata": {},
   "outputs": [],
   "source": [
    "# Plot accuracy vs learning rate\n",
    "lr_loss = []\n",
    "lr_acc = []\n",
    "for result in results:\n",
    "    lr_loss.append(result[0])\n",
    "    lr_acc.append(result[1])\n",
    "    \n",
    "f, ax = plt.subplots()\n",
    "ax.plot(learning_rates_coarse, lr_acc)\n",
    "ax.set_xscale(\"log\")\n",
    "f.show()"
   ]
  },
  {
   "cell_type": "code",
   "execution_count": null,
   "metadata": {},
   "outputs": [],
   "source": [
    "# Learning rate with highest accuracy betwen 0.0001 and 0.01\n",
    "# Generate 6 random learning rates in this range\n",
    "import numpy as np\n",
    "bases = np.repeat(10, 3)\n",
    "exponents_1 = -(np.random.rand(3) + 3) \n",
    "exponents_2 = -(np.random.rand(3) + 2) \n",
    "learning_rates_fine = np.power(bases, exponents_1).tolist() + np.power(bases, exponents_2).tolist()\n",
    "learning_rates_fine"
   ]
  },
  {
   "cell_type": "code",
   "execution_count": null,
   "metadata": {},
   "outputs": [],
   "source": [
    "results = []\n",
    "cnt = 0\n",
    "for rate in learning_rates_fine:\n",
    "    print(\"Count:\", cnt)\n",
    "    result = build_train_test(learning_rate=rate)\n",
    "    results.append(result)\n",
    "    cnt += 1"
   ]
  },
  {
   "cell_type": "code",
   "execution_count": null,
   "metadata": {},
   "outputs": [],
   "source": [
    "print_results(\"Learning Rates\", learning_rates_fine, results)"
   ]
  },
  {
   "cell_type": "markdown",
   "metadata": {},
   "source": [
    "#### Result: Learning Rate 0.0005935945876655383 yields second highest accuracy (0.737) and lowest loss (0.546)"
   ]
  },
  {
   "cell_type": "markdown",
   "metadata": {},
   "source": [
    "### Combine Optimized Parameters"
   ]
  },
  {
   "cell_type": "code",
   "execution_count": null,
   "metadata": {},
   "outputs": [],
   "source": [
    "result = build_train_test(architecture=(80, 50, 30), activation=\"tanh\",\n",
    "                          learning_rate=0.0005935945876655383,\n",
    "                          epochs=100, cat_cutoffs={\"CLASSIFICATION\": 1800})"
   ]
  },
  {
   "cell_type": "code",
   "execution_count": null,
   "metadata": {},
   "outputs": [],
   "source": [
    "result"
   ]
  },
  {
   "cell_type": "markdown",
   "metadata": {},
   "source": [
    "#### Result: Roughly same as original model, accuracy decreased 0.729 to 0.728"
   ]
  },
  {
   "cell_type": "code",
   "execution_count": null,
   "metadata": {},
   "outputs": [],
   "source": [
    "# Vary Batch Size with Optimized Values\n",
    "batch_sizes_coarse = [2**i for i in range(7)]\n",
    "\n",
    "results = []\n",
    "cnt = 0\n",
    "for batch_size in batch_sizes_coarse:\n",
    "    print(\"Count:\", cnt)\n",
    "    result = build_train_test(architecture=(80, 50, 30), activation=\"tanh\",\n",
    "                              learning_rate=0.0005935945876655383,\n",
    "                              epochs=100, cat_cutoffs={\"CLASSIFICATION\": 1800},\n",
    "                              batch_size=batch_size)\n",
    "    results.append(result)\n",
    "    cnt += 1"
   ]
  },
  {
   "cell_type": "code",
   "execution_count": null,
   "metadata": {},
   "outputs": [],
   "source": [
    "print_results(\"Batch Sizes\", batch_sizes_coarse, results)"
   ]
  },
  {
   "cell_type": "markdown",
   "metadata": {},
   "source": [
    "#### Result: Batch size of 16 generates second highest accuracy (0.737) and lowest loss (0.547)"
   ]
  },
  {
   "cell_type": "code",
   "execution_count": null,
   "metadata": {},
   "outputs": [],
   "source": [
    "# Read data\n",
    "application_df = pd.read_csv(\"Resources/charity_data.csv\")\n",
    "\n",
    "# Drop unnecessary identification columns\n",
    "application_df = application_df.drop(labels=[\"EIN\", \"NAME\"], axis=1)\n",
    "\n",
    "# Encode categorical columns without bucketing\n",
    "application_cat = list(application_df.dtypes[application_df.dtypes == \"object\"].index)\n",
    "# Create a OneHotEncoder instance\n",
    "enc = OneHotEncoder(sparse=False)\n",
    "# Fit and transform the OneHotEncoder using the categorical variable list\n",
    "encode_df = pd.DataFrame(enc.fit_transform(application_df[application_cat]))\n",
    "# Add the encoded variable names to the dataframe\n",
    "encode_df.columns = enc.get_feature_names(application_cat)\n",
    "# Merge one-hot encoded features and drop the originals\n",
    "application_df = application_df.merge(encode_df, left_index=True, right_index=True)\n",
    "application_df = application_df.drop(labels=application_cat, axis=1)\n",
    "# Drop redundant \"SPECIAL_CONSIDERATION_N\":\n",
    "application_df = application_df.drop(\"SPECIAL_CONSIDERATIONS_N\", axis=1)\n",
    "\n",
    "# Split our preprocessed data into our features and target arrays\n",
    "y = application_df[\"IS_SUCCESSFUL\"].values.reshape(-1, 1)\n",
    "X = application_df.drop(\"IS_SUCCESSFUL\", axis=1).values\n",
    "# Split the preprocessed data into a training and testing dataset\n",
    "X_train, X_test, y_train, y_test = train_test_split(X, y)\n",
    "\n",
    "# Create a StandardScaler instances\n",
    "scaler = StandardScaler()\n",
    "# Fit the StandardScaler\n",
    "X_scaler = scaler.fit(X_train)\n",
    "# Scale the data\n",
    "X_train_scaled = X_scaler.transform(X_train)\n",
    "X_test_scaled = X_scaler.transform(X_test)\n",
    "\n",
    "# Define the model: 3 hidden layers with 80, 50, and 30 nodes and relu activation function at inner layers\n",
    "number_input_features = len(X_train_scaled[0])\n",
    "hidden_nodes_layer1 = 80\n",
    "hidden_nodes_layer2 = 50\n",
    "hidden_nodes_layer3 = 30\n",
    "\n",
    "nn_optimized = tf.keras.models.Sequential()\n",
    "# Input layer and first hidden layer\n",
    "nn_optimized.add(tf.keras.layers.Dense(units=hidden_nodes_layer1, input_dim=number_input_features, activation=\"relu\"))\n",
    "# Second hidden layer\n",
    "nn_optimized.add(tf.keras.layers.Dense(units=hidden_nodes_layer2, activation=\"relu\"))\n",
    "# Third hidden layer\n",
    "nn_optimized.add(tf.keras.layers.Dense(units=hidden_nodes_layer3, activation=\"relu\"))\n",
    "# Output layer\n",
    "nn_optimized.add(tf.keras.layers.Dense(units=1, activation=\"sigmoid\"))\n",
    "\n",
    "# Check the structure of the model\n",
    "nn_optimized.summary()"
   ]
  },
  {
   "cell_type": "code",
   "execution_count": null,
   "metadata": {},
   "outputs": [],
   "source": [
    "# Compile the model\n",
    "nn_optimized.compile(loss=\"binary_crossentropy\", optimizer=\"adam\", metrics=[\"accuracy\"])"
   ]
  },
  {
   "cell_type": "code",
   "execution_count": null,
   "metadata": {},
   "outputs": [],
   "source": [
    "import os\n",
    "from tensorflow.keras.callbacks import ModelCheckpoint\n",
    "# Add model weight checkpoints during training\n",
    "os.makedirs(\"checkpoints_optimized/\", exist_ok=True)\n",
    "checkpoint_path=\"checkpoints_optimized/weights.{epoch}.hdf5\"\n",
    "\n",
    "# Create callback that saves the model's weights every 5 epochs\n",
    "cp_callback = ModelCheckpoint(filepath=checkpoint_path,\n",
    "                              verbose=1,\n",
    "                              save_weights_only=True,\n",
    "                              save_freq=\"epoch\",\n",
    "                              period=5)"
   ]
  },
  {
   "cell_type": "code",
   "execution_count": null,
   "metadata": {},
   "outputs": [],
   "source": [
    "# Train the model\n",
    "fit_model_optimized = nn_optimized.fit(X_train_scaled, y_train, epochs=100, callbacks=[cp_callback])"
   ]
  },
  {
   "cell_type": "code",
   "execution_count": null,
   "metadata": {},
   "outputs": [],
   "source": [
    "# Visualize Loss/Accuracy\n",
    "import matplotlib.pyplot as plt\n",
    "history_df = pd.DataFrame(fit_model_optimized.history,\n",
    "                          index=range(1, len(fit_model_optimized.history[\"loss\"]) + 1))\n",
    "\n",
    "fig, ax = plt.subplots()\n",
    "loss = ax.plot(history_df[\"loss\"], color=\"red\", label=\"Loss\")\n",
    "ax.set_xlabel(\"Epoch\")\n",
    "ax.set_ylabel(\"Loss\")\n",
    "\n",
    "ax2 = ax.twinx()\n",
    "acc = ax2.plot(history_df[\"accuracy\"], color=\"blue\", label=\"Accuracy\")\n",
    "ax2.set_ylabel(\"Accuracy\")\n",
    "\n",
    "curves = loss + acc\n",
    "labs = [l.get_label() for l in curves]\n",
    "ax.legend(curves, labs, loc=\"center right\")\n",
    "\n",
    "plt.show()"
   ]
  },
  {
   "cell_type": "code",
   "execution_count": null,
   "metadata": {},
   "outputs": [],
   "source": [
    "# Evaluate the model using the test data\n",
    "model_loss, model_accuracy = nn_optimized.evaluate(X_test_scaled, y_test, verbose=2)\n",
    "print(f\"Loss: {model_loss}, Accuracy: {model_accuracy}\")"
   ]
  },
  {
   "cell_type": "code",
   "execution_count": null,
   "metadata": {},
   "outputs": [],
   "source": [
    "# Export and save model to HDF5 file\n",
    "nn_optimized.save(\"AlphabetSoupCharity_Optimization.h5\")"
   ]
  },
  {
   "cell_type": "markdown",
   "metadata": {},
   "source": [
    "# Step 4: Write a Report on the Neural Network Model\n",
    "\n",
    "\n",
    "\n",
    "\n",
    "The best perfoming model had a few things in common:\n",
    "\n",
    "- Loss was below 0.6\n",
    "- Accuracy was above: 0.73\n",
    "- Could not bucket the variables\n",
    "- epoch was between 100-200\n",
    "- hidden layer with 90, 60 and 30 nodes\n",
    "\n"
   ]
  }
 ],
 "metadata": {
  "kernelspec": {
   "display_name": "Python 3 (ipykernel)",
   "language": "python",
   "name": "python3"
  },
  "language_info": {
   "codemirror_mode": {
    "name": "ipython",
    "version": 3
   },
   "file_extension": ".py",
   "mimetype": "text/x-python",
   "name": "python",
   "nbconvert_exporter": "python",
   "pygments_lexer": "ipython3",
   "version": "3.9.7"
  }
 },
 "nbformat": 4,
 "nbformat_minor": 4
}
